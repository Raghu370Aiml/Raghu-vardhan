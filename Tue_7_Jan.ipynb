{
  "nbformat": 4,
  "nbformat_minor": 0,
  "metadata": {
    "colab": {
      "provenance": []
    },
    "kernelspec": {
      "name": "python3",
      "display_name": "Python 3"
    },
    "language_info": {
      "name": "python"
    }
  },
  "cells": [
    {
      "cell_type": "code",
      "execution_count": 1,
      "metadata": {
        "colab": {
          "base_uri": "https://localhost:8080/"
        },
        "id": "lt8fl7Nn57mR",
        "outputId": "8a22c5cc-22b7-4428-8ef7-7f5fb39f2532"
      },
      "outputs": [
        {
          "output_type": "stream",
          "name": "stdout",
          "text": [
            "['__add__', '__class__', '__contains__', '__delattr__', '__dir__', '__doc__', '__eq__', '__format__', '__ge__', '__getattribute__', '__getitem__', '__getnewargs__', '__gt__', '__hash__', '__init__', '__init_subclass__', '__iter__', '__le__', '__len__', '__lt__', '__mod__', '__mul__', '__ne__', '__new__', '__reduce__', '__reduce_ex__', '__repr__', '__rmod__', '__rmul__', '__setattr__', '__sizeof__', '__str__', '__subclasshook__', 'capitalize', 'casefold', 'center', 'count', 'encode', 'endswith', 'expandtabs', 'find', 'format', 'format_map', 'index', 'isalnum', 'isalpha', 'isascii', 'isdecimal', 'isdigit', 'isidentifier', 'islower', 'isnumeric', 'isprintable', 'isspace', 'istitle', 'isupper', 'join', 'ljust', 'lower', 'lstrip', 'maketrans', 'partition', 'removeprefix', 'removesuffix', 'replace', 'rfind', 'rindex', 'rjust', 'rpartition', 'rsplit', 'rstrip', 'split', 'splitlines', 'startswith', 'strip', 'swapcase', 'title', 'translate', 'upper', 'zfill']\n"
          ]
        }
      ],
      "source": [
        "print(dir(str))"
      ]
    },
    {
      "cell_type": "code",
      "source": [
        "a='Hello World'\n",
        "b = a.swapcase()\n",
        "print(b)"
      ],
      "metadata": {
        "colab": {
          "base_uri": "https://localhost:8080/"
        },
        "id": "Eu3osSEU7H1N",
        "outputId": "cc8b861b-61ce-419b-def6-e22966bcd79a"
      },
      "execution_count": 2,
      "outputs": [
        {
          "output_type": "stream",
          "name": "stdout",
          "text": [
            "hELLO wORLD\n"
          ]
        }
      ]
    },
    {
      "cell_type": "code",
      "source": [
        "a='Hello World'\n",
        "b = a.title()\n",
        "print(b)"
      ],
      "metadata": {
        "colab": {
          "base_uri": "https://localhost:8080/"
        },
        "id": "Ldz1ZuT27yMF",
        "outputId": "62fca6f4-edc5-4472-cba5-37f44ce39ff8"
      },
      "execution_count": 3,
      "outputs": [
        {
          "output_type": "stream",
          "name": "stdout",
          "text": [
            "Hello World\n"
          ]
        }
      ]
    },
    {
      "cell_type": "code",
      "source": [
        "a = range(10)\n",
        "b =list(a)\n",
        "print(b)"
      ],
      "metadata": {
        "colab": {
          "base_uri": "https://localhost:8080/"
        },
        "id": "ywcryog38ACw",
        "outputId": "ee8ab8bb-50b2-4df5-a0fd-86b3073de343"
      },
      "execution_count": 5,
      "outputs": [
        {
          "output_type": "stream",
          "name": "stdout",
          "text": [
            "[0, 1, 2, 3, 4, 5, 6, 7, 8, 9]\n"
          ]
        }
      ]
    },
    {
      "cell_type": "code",
      "source": [
        "def add_numbers(a,b):\n",
        "    result = a + b\n",
        "    return result\n",
        "print(add_numbers(10,20))\n",
        ""
      ],
      "metadata": {
        "colab": {
          "base_uri": "https://localhost:8080/"
        },
        "id": "l5lc1Gr193ol",
        "outputId": "7a1b8e6e-1ef1-4bd5-c3cc-2d8a2a096d4e"
      },
      "execution_count": 6,
      "outputs": [
        {
          "output_type": "stream",
          "name": "stdout",
          "text": [
            "30\n"
          ]
        }
      ]
    },
    {
      "cell_type": "code",
      "source": [
        "def greet(name, greeting=\"Hello\"):\n",
        "    print(f\"{greeting}, {name}!\")\n",
        "greet(\"Alice\")"
      ],
      "metadata": {
        "colab": {
          "base_uri": "https://localhost:8080/"
        },
        "id": "NFeIgd8qAQ13",
        "outputId": "f31ad356-a78c-4fb0-ffc8-5d556aa97b45"
      },
      "execution_count": 7,
      "outputs": [
        {
          "output_type": "stream",
          "name": "stdout",
          "text": [
            "Hello, Alice!\n"
          ]
        }
      ]
    },
    {
      "cell_type": "code",
      "source": [
        "# function with *args\n",
        "def calculate_sum(*args):\n",
        "    total = sum(args)\n",
        "\n",
        "    return total\n",
        "print(\"sum of 1,2,3:\", calculate_sum(1,2,3,4,5))\n",
        "print(\"sum of 1,2,3,4,5,6,7,8,9:\", calculate_sum(1,2,3,4,5,6,7,8,9))"
      ],
      "metadata": {
        "colab": {
          "base_uri": "https://localhost:8080/"
        },
        "id": "7NUu2SvNAslH",
        "outputId": "89918160-01e6-4dc7-9890-47d2c218a650"
      },
      "execution_count": 8,
      "outputs": [
        {
          "output_type": "stream",
          "name": "stdout",
          "text": [
            "sum of 1,2,3: 15\n",
            "sum of 1,2,3,4,5,6,7,8,9: 45\n"
          ]
        }
      ]
    },
    {
      "cell_type": "code",
      "source": [
        "#creating a program and adding 2 or more features to it\n",
        "#predefined correct username and password\n",
        "correct_username = \"admin\"\n",
        "correct_password = \"password123\"\n",
        "while True:\n",
        "  username = input(\"Enter your username: \")\n",
        "  password = input(\"Enter your password: \")\n",
        "  if username == correct_username and password == correct_password:\n",
        "    print(\"Login successful!\")\n",
        "    break\n",
        "  else:\n",
        "    print(\"Invalid username or password. Please try again.\")"
      ],
      "metadata": {
        "colab": {
          "base_uri": "https://localhost:8080/"
        },
        "id": "ayqTx2kODbEO",
        "outputId": "339f5a5d-055b-4a6e-8936-caf5bd53bd96"
      },
      "execution_count": 9,
      "outputs": [
        {
          "output_type": "stream",
          "name": "stdout",
          "text": [
            "Enter your username: admin\n",
            "Enter your password: password123\n",
            "Login successful!\n"
          ]
        }
      ]
    },
    {
      "cell_type": "code",
      "source": [
        "print(dir(str))"
      ],
      "metadata": {
        "colab": {
          "base_uri": "https://localhost:8080/"
        },
        "id": "4FKNZ_o4E2N1",
        "outputId": "2a4fd62d-bceb-4552-d6a9-32db2269e4d4"
      },
      "execution_count": 10,
      "outputs": [
        {
          "output_type": "stream",
          "name": "stdout",
          "text": [
            "['__add__', '__class__', '__contains__', '__delattr__', '__dir__', '__doc__', '__eq__', '__format__', '__ge__', '__getattribute__', '__getitem__', '__getnewargs__', '__gt__', '__hash__', '__init__', '__init_subclass__', '__iter__', '__le__', '__len__', '__lt__', '__mod__', '__mul__', '__ne__', '__new__', '__reduce__', '__reduce_ex__', '__repr__', '__rmod__', '__rmul__', '__setattr__', '__sizeof__', '__str__', '__subclasshook__', 'capitalize', 'casefold', 'center', 'count', 'encode', 'endswith', 'expandtabs', 'find', 'format', 'format_map', 'index', 'isalnum', 'isalpha', 'isascii', 'isdecimal', 'isdigit', 'isidentifier', 'islower', 'isnumeric', 'isprintable', 'isspace', 'istitle', 'isupper', 'join', 'ljust', 'lower', 'lstrip', 'maketrans', 'partition', 'removeprefix', 'removesuffix', 'replace', 'rfind', 'rindex', 'rjust', 'rpartition', 'rsplit', 'rstrip', 'split', 'splitlines', 'startswith', 'strip', 'swapcase', 'title', 'translate', 'upper', 'zfill']\n"
          ]
        }
      ]
    },
    {
      "cell_type": "code",
      "source": [
        "# Built-in functions: len() and sum()\n",
        "def calculate_average(numbers):\n",
        "\n",
        "    if len(numbers) == 0:\n",
        "        return \"List is empty\"\n",
        "    return sum(numbers) / len(numbers)\n",
        "\n",
        "# Another user-defined function\n",
        "def greet_user(name):\n",
        "\n",
        "    return f\"Hello, {name}! Welcome!\"\n",
        "\n",
        "# Example usage\n",
        "if __name__ == \"__main__\":\n",
        "    # Using built-in functions in the user-defined function\n",
        "    numbers = [10, 20, 30, 40, 50]\n",
        "    print(f\"The average of {numbers} is: {calculate_average(numbers)}\")\n",
        "\n",
        "    # Using the other user-defined function\n",
        "    user_name = \"Alice\"\n",
        "    print(greet_user(user_name))\n"
      ],
      "metadata": {
        "colab": {
          "base_uri": "https://localhost:8080/"
        },
        "id": "5mvuRa6gFktF",
        "outputId": "08f4cfdf-4b17-45c2-fb51-3fa1cf11c66f"
      },
      "execution_count": 11,
      "outputs": [
        {
          "output_type": "stream",
          "name": "stdout",
          "text": [
            "The average of [10, 20, 30, 40, 50] is: 30.0\n",
            "Hello, Alice! Welcome!\n"
          ]
        }
      ]
    },
    {
      "source": [
        "#Built-in method\n",
        "my_list = [1, 2, 3, 4, 5]\n",
        "length = len(my_list)  # length will be 5\n",
        "print(length)"
      ],
      "cell_type": "code",
      "metadata": {
        "colab": {
          "base_uri": "https://localhost:8080/"
        },
        "id": "exSJERQRGEre",
        "outputId": "9ab03b79-e600-4724-f3e0-d6ce2a13ca4f"
      },
      "execution_count": 13,
      "outputs": [
        {
          "output_type": "stream",
          "name": "stdout",
          "text": [
            "5\n"
          ]
        }
      ]
    },
    {
      "cell_type": "code",
      "source": [
        "#Built-in method(sum)\n",
        "numbers = [1, 2, 3, 4, 5]\n",
        "total = sum(numbers)  # total will be 15\n",
        "print(total)"
      ],
      "metadata": {
        "colab": {
          "base_uri": "https://localhost:8080/"
        },
        "id": "a4VnXS3rGPHY",
        "outputId": "626076aa-bb02-4fa1-e56f-42a6659327d5"
      },
      "execution_count": 15,
      "outputs": [
        {
          "output_type": "stream",
          "name": "stdout",
          "text": [
            "15\n"
          ]
        }
      ]
    }
  ]
}